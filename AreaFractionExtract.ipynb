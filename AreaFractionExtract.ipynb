{
 "cells": [
  {
   "cell_type": "code",
   "execution_count": 2,
   "metadata": {},
   "outputs": [
    {
     "name": "stdout",
     "output_type": "stream",
     "text": [
      "C:\\Users\\leoch_000\\Desktop\\MSE 130 Labs\\30C 9nm Frames\n"
     ]
    }
   ],
   "source": [
    "import numpy as np\n",
    "import math as m\n",
    "import os\n",
    "import cv2 as cv\n",
    "from sklearn.cluster import KMeans\n",
    "\n",
    "## This code was written for data analysis of an experiment on nucleation and growth of Te thin films, as part of the course\n",
    "# Experimental Materials Science and Design at UC Berkeley. The objective is to process a sequence of frames and compute the \n",
    "# total area of the film that has been crystallized. \n",
    "\n",
    "# This code takes the previously determined k_means centroids as average values for each Te phase (crystalline and amorphous)\n",
    "# and performs a proximity calculation to determine whether a point has been transformed. Finally, it calculates the area \n",
    "# fraction of transformed material. \n",
    "\n",
    "os.chdir('C:/Users/leoch_000/Desktop/MSE 130 Labs/30C 9nm Frames/') # Moves to the directory of the target temperature\n",
    "print(os.getcwd())"
   ]
  },
  {
   "cell_type": "code",
   "execution_count": 3,
   "metadata": {},
   "outputs": [
    {
     "name": "stdout",
     "output_type": "stream",
     "text": [
      "1536 1024\n",
      "1536 1024\n",
      "1536 1024\n",
      "1536 1024\n",
      "1536 1024\n",
      "1536 1024\n",
      "1536 1024\n",
      "1536 1024\n",
      "1536 1024\n",
      "1536 1024\n",
      "1536 1024\n",
      "1536 1024\n",
      "1536 1024\n",
      "1536 1024\n",
      "1536 1024\n",
      "1536 1024\n",
      "1536 1024\n",
      "1536 1024\n",
      "1536 1024\n",
      "1536 1024\n",
      "1536 1024\n",
      "1536 1024\n",
      "1536 1024\n",
      "1536 1024\n",
      "1536 1024\n",
      "1536 1024\n",
      "1536 1024\n",
      "1536 1024\n",
      "1536 1024\n",
      "1536 1024\n",
      "1536 1024\n",
      "1536 1024\n",
      "1536 1024\n",
      "1536 1024\n",
      "1536 1024\n",
      "1536 1024\n",
      "1536 1024\n",
      "1536 1024\n",
      "1536 1024\n",
      "1536 1024\n",
      "1536 1024\n",
      "1536 1024\n",
      "1536 1024\n",
      "1536 1024\n",
      "1536 1024\n",
      "1536 1024\n",
      "1536 1024\n",
      "1536 1024\n",
      "1536 1024\n",
      "1536 1024\n",
      "1536 1024\n",
      "1536 1024\n",
      "1536 1024\n",
      "1536 1024\n",
      "1536 1024\n",
      "1536 1024\n",
      "1536 1024\n",
      "1536 1024\n",
      "1536 1024\n",
      "1536 1024\n",
      "1536 1024\n",
      "1536 1024\n",
      "1536 1024\n",
      "1536 1024\n",
      "1536 1024\n",
      "1536 1024\n",
      "1536 1024\n",
      "1536 1024\n",
      "1536 1024\n",
      "1536 1024\n",
      "1536 1024\n",
      "1536 1024\n",
      "1536 1024\n",
      "1536 1024\n",
      "1536 1024\n",
      "1536 1024\n",
      "1536 1024\n",
      "1536 1024\n",
      "1536 1024\n",
      "1536 1024\n",
      "1536 1024\n",
      "1536 1024\n",
      "1536 1024\n",
      "1536 1024\n",
      "1536 1024\n",
      "1536 1024\n",
      "1536 1024\n",
      "1536 1024\n",
      "1536 1024\n",
      "1536 1024\n",
      "1536 1024\n",
      "[0.00000000e+00 2.92460124e-05 2.98817952e-05 3.80330404e-01\n",
      " 4.68025208e-01 5.58376312e-01 6.46230698e-01 7.33713786e-01\n",
      " 8.09115092e-01 8.71479670e-01 9.19500351e-01 9.54535166e-01\n",
      " 2.98817952e-05 9.74904378e-01 9.85145569e-01 9.90925471e-01\n",
      " 9.95299657e-01 9.98431524e-01 9.99063492e-01 9.99133428e-01\n",
      " 9.99164581e-01 9.99184291e-01 9.99205907e-01 9.99216715e-01\n",
      " 9.99224345e-01 9.99246597e-01 9.99249776e-01 2.98817952e-05\n",
      " 9.99259313e-01 9.99261856e-01 9.99272029e-01 9.99278386e-01\n",
      " 9.99277751e-01 9.99279658e-01 9.99280294e-01 9.99284744e-01\n",
      " 9.99287287e-01 2.98817952e-05 9.99279658e-01 9.99292374e-01\n",
      " 9.99285380e-01 9.99282837e-01 9.99293009e-01 9.99295553e-01\n",
      " 9.99289195e-01 9.99292374e-01 9.99292374e-01 9.99288559e-01\n",
      " 2.98817952e-05 9.99286016e-01 9.99286016e-01 2.98817952e-05\n",
      " 2.98817952e-05 2.79744466e-05 3.05175781e-05 2.92460124e-05\n",
      " 3.05175781e-05 2.98817952e-05 2.98817952e-05 2.98817952e-05\n",
      " 2.98817952e-05 2.86102295e-05 3.05175781e-05 3.05175781e-05\n",
      " 2.98817952e-05 2.98817952e-05 2.92460124e-05 3.05175781e-05\n",
      " 5.46773275e-05 7.62939453e-05 2.95003255e-04 2.98817952e-05\n",
      " 6.41504924e-04 1.33260091e-03 2.29771932e-03 3.50824992e-03\n",
      " 5.28271993e-03 8.38724772e-03 1.35021210e-02 2.04048157e-02\n",
      " 2.97813416e-02 4.08013662e-02 2.98817952e-05 5.64327240e-02\n",
      " 7.40299225e-02 1.02419535e-01 1.32434845e-01 1.25464757e-01\n",
      " 1.81874593e-01 2.41503398e-01 2.39390055e-01 2.80306498e-01]\n"
     ]
    }
   ],
   "source": [
    "root_dir = 'C:/Users/leoch_000/Desktop/MSE 130 Labs/30C 9nm Frames/' # Chooses the target directory (associated with an \n",
    "#experimental temperature)\n",
    "\n",
    "area_fraction_Vec = np.array([0]) # Initializes the area fraction of crystal as 0\n",
    "\n",
    "# Iterates through every file in the directory\n",
    "for directory, subdirectories, files in os.walk(root_dir):\n",
    "    for file in files:\n",
    "        im = cv.imread(os.path.join(directory, file)) # Reads the frame as a numpy array.\n",
    "        \n",
    "        # Performs data selection (left half of image is kept)\n",
    "        cut = m.floor((np.size(im, 1)/2)) \n",
    "        im = im[:, 0:cut, :]\n",
    "        orig_x = np.size(im, 0)\n",
    "        orig_y = np.size(im, 1)\n",
    "        print(np.size(im, 0), np.size(im, 1))\n",
    "        # Transforms the 3-d array into a 2-d array\n",
    "        im = np.reshape(im, (np.size(im, 0)*np.size(im, 1), 3))\n",
    "        \n",
    "        # Vectorizes specified centroids (see MSE130KMeans)\n",
    "        amorphous_centroid = np.array([18.11586087 , 43.30814824 , 89.14971191]) # RGB coordinates of crystal centroid\n",
    "        crystal_centroid = np.array([18.82141992 , 50.36834409, 106.42255402]) # RGB coordinates of amorphous centroid\n",
    "        c = np.zeros((orig_x* orig_y, 3))\n",
    "        a = np.zeros((orig_x* orig_y, 3))\n",
    "        c = c+crystal_centroid\n",
    "        a = a+amorphous_centroid\n",
    "        # Calculates row vector of squared distances to crystal centroid\n",
    "        dc = c-im \n",
    "        dc_dis = np.sum(np.abs(dc)**2, axis=-1)\n",
    "        # Calculates row vector of squared distances to amorphous centroid\n",
    "        da = a-im \n",
    "        da_dis = np.sum(np.abs(da)**2, axis=-1)\n",
    "        \n",
    "        \n",
    "        # Initialize count\n",
    "        crystals = 0\n",
    "        amorphous = 0\n",
    "        \n",
    "        i = 0 # Initializes counter\n",
    "        while i < np.size(im, 0):\n",
    "            if dc_dis[i] < da_dis[i]:\n",
    "                crystals = crystals + 1\n",
    "            else:\n",
    "                amorphous = amorphous + 1\n",
    "            i+=1\n",
    "            \n",
    "        cr_area_fraction = np.array([crystals/(crystals+amorphous)])\n",
    "        \n",
    "        area_fraction_Vec = np.concatenate([area_fraction_Vec, cr_area_fraction]) # Adds to the time dependent array\n",
    "        \n",
    "print(area_fraction_Vec)\n",
    "            \n",
    "        "
   ]
  },
  {
   "cell_type": "code",
   "execution_count": 4,
   "metadata": {},
   "outputs": [
    {
     "data": {
      "image/png": "[encoded data removed]",
      "text/plain": [
       "<Figure size 432x288 with 1 Axes>"
      ]
     },
     "metadata": {
      "needs_background": "light"
     },
     "output_type": "display_data"
    }
   ],
   "source": [
    "import matplotlib.pyplot as plt\n",
    "from numpy import savetxt\n",
    "r = np.size(area_fraction_Vec)\n",
    "x = np.array(range(r))\n",
    "plt.plot(x, area_fraction_Vec, x, 1-area_fraction_Vec)\n",
    "##savetxt('a30p.csv', area_fraction_Vec, delimiter=',')\n",
    "##savetxt('a30n.csv', 1-area_fraction_Vec, delimiter=',')"
   ]
  },
  {
   "cell_type": "code",
   "execution_count": 31,
   "metadata": {},
   "outputs": [
    {
     "name": "stdout",
     "output_type": "stream",
     "text": [
      "4\n"
     ]
    }
   ],
   "source": []
  },
  {
   "cell_type": "code",
   "execution_count": null,
   "metadata": {},
   "outputs": [],
   "source": []
  }
 ],
 "metadata": {
  "kernelspec": {
   "display_name": "Python 3",
   "language": "python",
   "name": "python3"
  },
  "language_info": {
   "codemirror_mode": {
    "name": "ipython",
    "version": 3
   },
   "file_extension": ".py",
   "mimetype": "text/x-python",
   "name": "python",
   "nbconvert_exporter": "python",
   "pygments_lexer": "ipython3",
   "version": "3.8.3"
  }
 },
 "nbformat": 4,
 "nbformat_minor": 4
}
